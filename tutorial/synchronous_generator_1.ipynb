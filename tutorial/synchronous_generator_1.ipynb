{
 "metadata": {
  "name": "",
  "signature": "sha256:7191da554c1193458c76b32109db154f39fe7151ed445f6f84815ed6a75ca3aa"
 },
 "nbformat": 3,
 "nbformat_minor": 0,
 "worksheets": [
  {
   "cells": [
    {
     "cell_type": "code",
     "collapsed": false,
     "input": [
      "import numpy as np"
     ],
     "language": "python",
     "metadata": {},
     "outputs": [],
     "prompt_number": 1
    },
    {
     "cell_type": "code",
     "collapsed": false,
     "input": [
      "from pysimu import sim"
     ],
     "language": "python",
     "metadata": {},
     "outputs": [],
     "prompt_number": 2
    },
    {
     "cell_type": "code",
     "collapsed": false,
     "input": [
      "simu_1 = sim()"
     ],
     "language": "python",
     "metadata": {},
     "outputs": [],
     "prompt_number": 3
    },
    {
     "cell_type": "code",
     "collapsed": false,
     "input": [
      "# parameters\n",
      "p_m = 1.0\n",
      "X = 0.5\n",
      "e = 1.0\n",
      "v = 1.0\n",
      "H = 3.5\n",
      "omega_s = 1.0\n",
      "omega = omega_s\n",
      "D = 1.0\n",
      "Omega_b = 2.0*np.pi*50.0"
     ],
     "language": "python",
     "metadata": {},
     "outputs": [],
     "prompt_number": 4
    },
    {
     "cell_type": "markdown",
     "metadata": {},
     "source": [
      "## Dynamic system"
     ]
    },
    {
     "cell_type": "markdown",
     "metadata": {},
     "source": [
      "### States"
     ]
    },
    {
     "cell_type": "markdown",
     "metadata": {},
     "source": [
      "$$ \\sf x = \n",
      "\\left [ \n",
      "\\begin{matrix}   \n",
      "    \\sf \\delta  \\\\  \n",
      "    \\sf \\omega  \n",
      "\\end{matrix} \n",
      "\\right ]$$"
     ]
    },
    {
     "cell_type": "markdown",
     "metadata": {},
     "source": [
      "### Diferential equations"
     ]
    },
    {
     "cell_type": "markdown",
     "metadata": {},
     "source": [
      "\\begin{align}\n",
      "    \\sf \\frac{d \\delta}{dt} &=  \\sf \\Omega_b \\left (  \\omega - \\omega_s \\right)\\\\\n",
      "    \\sf \\frac{d \\omega}{dt} &= \\sf \\frac{1}{2H} \\left (p_m - p_e - D \\left  (\\omega - \\omega_s \\right  ) \\right )\n",
      "\\end{align}"
     ]
    },
    {
     "cell_type": "markdown",
     "metadata": {},
     "source": [
      "$$ \\sf f(t,x) = \n",
      "\\left [\n",
      "\\begin{matrix} \n",
      "    \\sf \\frac{d \\delta}{dt} \\\\\n",
      "    \\sf \\frac{d \\omega}{dt} \n",
      "\\end{matrix} \n",
      "\\right ]$$"
     ]
    },
    {
     "cell_type": "code",
     "collapsed": false,
     "input": [
      "def f(t,x):\n",
      "    \n",
      "    delta = x[0]\n",
      "    omega = x[1]\n",
      "    \n",
      "    p_e = e*v/X*np.sin(delta)\n",
      "    \n",
      "    ddelta = Omega_b*(omega - omega_s)\n",
      "    domega = 1.0/(2*H)*(p_m - p_e - D*(omega - omega_s))\n",
      "    \n",
      "    return [ddelta, domega]"
     ],
     "language": "python",
     "metadata": {},
     "outputs": [],
     "prompt_number": 5
    },
    {
     "cell_type": "markdown",
     "metadata": {},
     "source": [
      "## Outputs functions"
     ]
    },
    {
     "cell_type": "markdown",
     "metadata": {},
     "source": [
      "$$ \\sf p_e = \\frac{ev}{X}\\sin{\\left( \\delta \\right)}$$"
     ]
    },
    {
     "cell_type": "code",
     "collapsed": false,
     "input": [
      "def h(t,x):\n",
      "\n",
      "    delta = x[0]\n",
      "    omega = x[1]\n",
      "    \n",
      "    p_e = e*v/X*np.sin(delta)\n",
      "    \n",
      "    return np.array(p_e)"
     ],
     "language": "python",
     "metadata": {},
     "outputs": [],
     "prompt_number": 6
    },
    {
     "cell_type": "markdown",
     "metadata": {},
     "source": [
      "### Initialization"
     ]
    },
    {
     "cell_type": "code",
     "collapsed": false,
     "input": [
      "p_e = p_m\n",
      "delta_0 = np.arcsin(p_e*X/(e*v))  \n",
      "omega_0 = omega_s\n",
      "\n",
      "x_0 = np.array([delta_0, omega_0])"
     ],
     "language": "python",
     "metadata": {},
     "outputs": [],
     "prompt_number": 7
    },
    {
     "cell_type": "markdown",
     "metadata": {},
     "source": [
      "## System definition"
     ]
    },
    {
     "cell_type": "code",
     "collapsed": false,
     "input": [
      "simu_1.f = f\n",
      "simu_1.x_0 = x_0\n",
      "simu_1.h = h\n",
      "\n",
      "\n"
     ],
     "language": "python",
     "metadata": {},
     "outputs": [],
     "prompt_number": 8
    },
    {
     "cell_type": "markdown",
     "metadata": {},
     "source": [
      "## Simulation"
     ]
    },
    {
     "cell_type": "code",
     "collapsed": false,
     "input": [
      "simu_1.run(1.0)\n",
      "v = 0.0\n",
      "\n",
      "fault_ms = 200.0\n",
      "simu_1.run(1.0+fault_ms/1000.0)\n",
      "v = 1.0\n",
      "simu_1.x_0 = simu_1.x\n",
      "simu_1.run(5.0)\n",
      "\n"
     ],
     "language": "python",
     "metadata": {},
     "outputs": [],
     "prompt_number": 9
    },
    {
     "cell_type": "markdown",
     "metadata": {},
     "source": [
      "## Results"
     ]
    },
    {
     "cell_type": "code",
     "collapsed": false,
     "input": [
      "%matplotlib inline"
     ],
     "language": "python",
     "metadata": {},
     "outputs": [],
     "prompt_number": 10
    },
    {
     "cell_type": "code",
     "collapsed": false,
     "input": [
      "Delta = np.linspace(0.0, np.pi,100)\n",
      "P_e = e*v/X*np.sin(Delta)"
     ],
     "language": "python",
     "metadata": {},
     "outputs": [],
     "prompt_number": 11
    },
    {
     "cell_type": "code",
     "collapsed": false,
     "input": [
      "# plot results\n",
      "import matplotlib.pyplot as plt\n",
      "fig_1 = plt.figure( figsize=(14, 8))\n",
      "    \n",
      "ax_delta = fig_1.add_subplot(2,2,1)\n",
      "ax_omega = fig_1.add_subplot(2,2,3)\n",
      "ax_delta_omega = fig_1.add_subplot(2,2,(2,4))\n",
      "\n",
      "ax_delta.plot(simu_1.T,simu_1.X[:,0], linewidth=2)\n",
      "ax_omega.plot(simu_1.T,simu_1.X[:,1], linewidth=2)\n",
      "ax_delta_omega.plot(Delta,P_e, label='$\\sf p_e$')\n",
      "ax_delta_omega.plot(Delta,P_e/P_e*p_m, label='$\\sf p_m$', linewidth=2)\n",
      "ax_delta_omega.plot(simu_1.X[:,0],simu_1.Y[:], 'r', linewidth=2)\n",
      "\n",
      "ax_delta.set_ylabel('$\\sf \\delta $ (rad)')\n",
      "\n",
      "ax_omega.set_xlabel('Time (s)')\n",
      "ax_omega.set_ylabel('$\\sf \\omega $ (p.u.)')\n",
      "\n",
      "ax_delta_omega.set_xlabel('$\\sf \\delta $ (rad)')\n",
      "ax_delta_omega.set_ylabel('$\\sf Power $ (p.u.)')\n",
      "\n",
      "ax_delta.grid(True)\n",
      "ax_omega.grid(True)\n",
      "ax_delta_omega.grid(True)\n",
      "\n"
     ],
     "language": "python",
     "metadata": {},
     "outputs": [
      {
       "output_type": "stream",
       "stream": "stderr",
       "text": [
        "-c:12: RuntimeWarning: invalid value encountered in divide\n"
       ]
      },
      {
       "metadata": {},
       "output_type": "display_data",
       "png": "[encoded data removed]",
       "text": [
        "<matplotlib.figure.Figure at 0x397a5d0>"
       ]
      }
     ],
     "prompt_number": 12
    },
    {
     "cell_type": "code",
     "collapsed": false,
     "input": [],
     "language": "python",
     "metadata": {},
     "outputs": [],
     "prompt_number": 12
    },
    {
     "cell_type": "code",
     "collapsed": false,
     "input": [],
     "language": "python",
     "metadata": {},
     "outputs": [],
     "prompt_number": 12
    }
   ],
   "metadata": {}
  }
 ]
}